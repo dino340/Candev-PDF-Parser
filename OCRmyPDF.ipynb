{
  "nbformat": 4,
  "nbformat_minor": 0,
  "metadata": {
    "colab": {
      "name": "OCRmyPDF.ipynb",
      "provenance": [],
      "collapsed_sections": [],
      "mount_file_id": "1dpEG_OXrHgsJ0KQM2mkB13ZmR89BUYjT",
      "authorship_tag": "ABX9TyNtF0OBagrECRCfrG80IUwU",
      "include_colab_link": true
    },
    "kernelspec": {
      "name": "python3",
      "display_name": "Python 3"
    },
    "language_info": {
      "name": "python"
    }
  },
  "cells": [
    {
      "cell_type": "markdown",
      "metadata": {
        "id": "view-in-github",
        "colab_type": "text"
      },
      "source": [
        "<a href=\"https://colab.research.google.com/github/dino340/Candev-PDF-Parser/blob/main/OCRmyPDF.ipynb\" target=\"_parent\"><img src=\"https://colab.research.google.com/assets/colab-badge.svg\" alt=\"Open In Colab\"/></a>"
      ]
    },
    {
      "cell_type": "code",
      "execution_count": 1,
      "metadata": {
        "colab": {
          "base_uri": "https://localhost:8080/"
        },
        "id": "H577-L4lW--e",
        "outputId": "cb28b6c0-6c68-42a8-c745-f0e190a59d96"
      },
      "outputs": [
        {
          "output_type": "stream",
          "name": "stdout",
          "text": [
            "Collecting git+https://github.com/jbarlow83/OCRmyPDF.git\n",
            "  Cloning https://github.com/jbarlow83/OCRmyPDF.git to /tmp/pip-req-build-w7400ern\n",
            "  Running command git clone -q https://github.com/jbarlow83/OCRmyPDF.git /tmp/pip-req-build-w7400ern\n",
            "  Installing build dependencies ... \u001b[?25l\u001b[?25hdone\n",
            "  Getting requirements to build wheel ... \u001b[?25l\u001b[?25hdone\n",
            "    Preparing wheel metadata ... \u001b[?25l\u001b[?25hdone\n",
            "Requirement already satisfied: Pillow>=8.2.0 in /usr/local/lib/python3.7/dist-packages (from ocrmypdf==13.3.0.post1+g2be8eeec) (9.0.1)\n",
            "Requirement already satisfied: importlib-resources>=5 in /usr/local/lib/python3.7/dist-packages (from ocrmypdf==13.3.0.post1+g2be8eeec) (5.4.0)\n",
            "Requirement already satisfied: pluggy<2,>=0.13.0 in /usr/local/lib/python3.7/dist-packages (from ocrmypdf==13.3.0.post1+g2be8eeec) (1.0.0)\n",
            "Requirement already satisfied: tqdm>=4 in /usr/local/lib/python3.7/dist-packages (from ocrmypdf==13.3.0.post1+g2be8eeec) (4.62.3)\n",
            "Requirement already satisfied: coloredlogs>=14.0 in /usr/local/lib/python3.7/dist-packages (from ocrmypdf==13.3.0.post1+g2be8eeec) (15.0.1)\n",
            "Requirement already satisfied: importlib-metadata>=4 in /usr/local/lib/python3.7/dist-packages (from ocrmypdf==13.3.0.post1+g2be8eeec) (4.10.1)\n",
            "Requirement already satisfied: packaging>=20 in /usr/local/lib/python3.7/dist-packages (from ocrmypdf==13.3.0.post1+g2be8eeec) (21.3)\n",
            "Requirement already satisfied: img2pdf<0.5,>=0.3.0 in /usr/local/lib/python3.7/dist-packages (from ocrmypdf==13.3.0.post1+g2be8eeec) (0.4.3)\n",
            "Requirement already satisfied: reportlab>=3.5.66 in /usr/local/lib/python3.7/dist-packages (from ocrmypdf==13.3.0.post1+g2be8eeec) (3.6.6)\n",
            "Requirement already satisfied: pdfminer.six!=20200720,<=20211012,>=20191110 in /usr/local/lib/python3.7/dist-packages (from ocrmypdf==13.3.0.post1+g2be8eeec) (20211012)\n",
            "Requirement already satisfied: pikepdf>=4.0.0 in /usr/local/lib/python3.7/dist-packages (from ocrmypdf==13.3.0.post1+g2be8eeec) (4.4.1)\n",
            "Requirement already satisfied: humanfriendly>=9.1 in /usr/local/lib/python3.7/dist-packages (from coloredlogs>=14.0->ocrmypdf==13.3.0.post1+g2be8eeec) (10.0)\n",
            "Requirement already satisfied: zipp>=0.5 in /usr/local/lib/python3.7/dist-packages (from importlib-metadata>=4->ocrmypdf==13.3.0.post1+g2be8eeec) (3.7.0)\n",
            "Requirement already satisfied: typing-extensions>=3.6.4 in /usr/local/lib/python3.7/dist-packages (from importlib-metadata>=4->ocrmypdf==13.3.0.post1+g2be8eeec) (3.10.0.2)\n",
            "Requirement already satisfied: pyparsing!=3.0.5,>=2.0.2 in /usr/local/lib/python3.7/dist-packages (from packaging>=20->ocrmypdf==13.3.0.post1+g2be8eeec) (3.0.7)\n",
            "Requirement already satisfied: cryptography in /usr/local/lib/python3.7/dist-packages (from pdfminer.six!=20200720,<=20211012,>=20191110->ocrmypdf==13.3.0.post1+g2be8eeec) (36.0.1)\n",
            "Requirement already satisfied: chardet in /usr/local/lib/python3.7/dist-packages (from pdfminer.six!=20200720,<=20211012,>=20191110->ocrmypdf==13.3.0.post1+g2be8eeec) (3.0.4)\n",
            "Requirement already satisfied: lxml>=4.0 in /usr/local/lib/python3.7/dist-packages (from pikepdf>=4.0.0->ocrmypdf==13.3.0.post1+g2be8eeec) (4.2.6)\n",
            "Requirement already satisfied: cffi>=1.12 in /usr/local/lib/python3.7/dist-packages (from cryptography->pdfminer.six!=20200720,<=20211012,>=20191110->ocrmypdf==13.3.0.post1+g2be8eeec) (1.15.0)\n",
            "Requirement already satisfied: pycparser in /usr/local/lib/python3.7/dist-packages (from cffi>=1.12->cryptography->pdfminer.six!=20200720,<=20211012,>=20191110->ocrmypdf==13.3.0.post1+g2be8eeec) (2.21)\n"
          ]
        }
      ],
      "source": [
        "!pip3 install git+https://github.com/jbarlow83/OCRmyPDF.git"
      ]
    },
    {
      "cell_type": "code",
      "source": [
        "!pip install pdfplumber -q"
      ],
      "metadata": {
        "id": "nlaxCi3UXMwj"
      },
      "execution_count": 2,
      "outputs": []
    },
    {
      "cell_type": "code",
      "source": [
        "!git clone https://github.com/ferna11i/CanDev_Scanned_Documents"
      ],
      "metadata": {
        "colab": {
          "base_uri": "https://localhost:8080/"
        },
        "id": "CPJ6uyYLuPQh",
        "outputId": "6c09afbb-e99a-4e8c-b229-4981c574f65e"
      },
      "execution_count": 3,
      "outputs": [
        {
          "output_type": "stream",
          "name": "stdout",
          "text": [
            "Cloning into 'CanDev_Scanned_Documents'...\n",
            "remote: Enumerating objects: 107, done.\u001b[K\n",
            "remote: Counting objects: 100% (107/107), done.\u001b[K\n",
            "remote: Compressing objects: 100% (104/104), done.\u001b[K\n",
            "remote: Total 107 (delta 1), reused 107 (delta 1), pack-reused 0\u001b[K\n",
            "Receiving objects: 100% (107/107), 234.39 MiB | 36.21 MiB/s, done.\n",
            "Resolving deltas: 100% (1/1), done.\n",
            "Checking out files: 100% (101/101), done.\n"
          ]
        }
      ]
    },
    {
      "cell_type": "code",
      "source": [
        "import os\n",
        "import ocrmypdf\n",
        "import pdfplumber\n",
        "import shutil"
      ],
      "metadata": {
        "id": "7EvbnqehX2ca"
      },
      "execution_count": 4,
      "outputs": []
    },
    {
      "cell_type": "code",
      "source": [
        "# Sanitize filenames removing spaces and compile list of filenames\n",
        "folder = r'/content/CanDev_Scanned_Documents/'\n",
        "files = []\n",
        "for file_name in os.listdir(folder):\n",
        "  if file_name[-4:] == '.pdf':\n",
        "    source = folder + file_name\n",
        "    new_name = file_name.replace(' ','_')\n",
        "    files.append(new_name)\n",
        "    destination = folder + new_name\n",
        "    os.rename(source,destination)"
      ],
      "metadata": {
        "id": "Y5VuBQoIbt55"
      },
      "execution_count": 5,
      "outputs": []
    },
    {
      "cell_type": "code",
      "source": [
        "# OCR scanned PDFs and copy text PDFs to output folder\n",
        "os.mkdir('/content/pdf_output/')\n",
        "for pdfname in files:\n",
        "  doc = f'/content/CanDev_Scanned_Documents/{pdfname}'\n",
        "  output = f'/content/pdf_output/{pdfname}'\n",
        "  with pdfplumber.open(doc) as pdf:\n",
        "    page = pdf.pages[0]\n",
        "    text = len(page.extract_text())\n",
        "    if text == 0:\n",
        "      os.system(f'ocrmypdf --redo-ocr {doc} {output}')\n",
        "    else:\n",
        "      shutil.copy(doc, output)"
      ],
      "metadata": {
        "id": "x7RXcAPTXhyz"
      },
      "execution_count": 7,
      "outputs": []
    }
  ]
}